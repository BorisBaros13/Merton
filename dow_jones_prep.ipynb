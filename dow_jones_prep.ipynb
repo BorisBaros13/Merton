{
 "cells": [
  {
   "cell_type": "code",
   "execution_count": null,
   "id": "faeef87d",
   "metadata": {},
   "outputs": [],
   "source": [
    "p"
   ]
  }
 ],
 "metadata": {
  "language_info": {
   "name": "python"
  }
 },
 "nbformat": 4,
 "nbformat_minor": 5
}
